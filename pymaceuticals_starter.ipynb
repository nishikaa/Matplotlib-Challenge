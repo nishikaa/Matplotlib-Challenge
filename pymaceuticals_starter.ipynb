{
 "cells": [
  {
   "cell_type": "markdown",
   "metadata": {},
   "source": [
    "## Observations and Insights "
   ]
  },
  {
   "cell_type": "markdown",
   "metadata": {},
   "source": [
    "This Analysis was done observing the tumor volume of the mice during the treatments of 10 drug Regimens. Mice treated with Capomulin and Ramicane had relatively low mean value of the Tumor volumes. Mice treated with Katapril, Naftiso and Placebo have had relatively large tumor volumes as well as variations in their volume. Number of measurements with Capomulin and Ramicane are higher among the 10 drug regimens and Propriva has the lowest number of measurements taken. In the test number of female mice exceeds the number of male mouse by 2%. With the analysis of box plots we can see the final tumor volumes of the mice treated with Capomulin and Ramicane are lower than the tumor volumes of mice treated with Infubinol and Caftemin. This information is not sufficient to make any decision of the efficacy of the treatment because the mean tumor volumes of the mice treated with those two drug regimens were lower compared to others. \n",
    "When tumor volume is compared with weight of the mice we can observe a positive, linear correlation between the two factors.\n"
   ]
  },
  {
   "cell_type": "markdown",
   "metadata": {},
   "source": []
  },
  {
   "cell_type": "code",
   "execution_count": 11,
   "metadata": {},
   "outputs": [
    {
     "name": "stdout",
     "output_type": "stream",
     "text": [
      "  Mouse ID Drug Regimen     Sex  Age_months  Weight (g)\n",
      "0     k403     Ramicane    Male          21          16\n",
      "1     s185    Capomulin  Female           3          17\n",
      "2     x401    Capomulin  Female          16          15\n",
      "3     m601    Capomulin    Male          22          17\n",
      "4     g791     Ramicane    Male          11          16\n",
      "  Mouse ID  Timepoint  Tumor Volume (mm3)  Metastatic Sites\n",
      "0     b128          0                45.0                 0\n",
      "1     f932          0                45.0                 0\n",
      "2     g107          0                45.0                 0\n",
      "3     a457          0                45.0                 0\n",
      "4     c819          0                45.0                 0\n"
     ]
    },
    {
     "data": {
      "text/html": [
       "<div>\n",
       "<style scoped>\n",
       "    .dataframe tbody tr th:only-of-type {\n",
       "        vertical-align: middle;\n",
       "    }\n",
       "\n",
       "    .dataframe tbody tr th {\n",
       "        vertical-align: top;\n",
       "    }\n",
       "\n",
       "    .dataframe thead th {\n",
       "        text-align: right;\n",
       "    }\n",
       "</style>\n",
       "<table border=\"1\" class=\"dataframe\">\n",
       "  <thead>\n",
       "    <tr style=\"text-align: right;\">\n",
       "      <th></th>\n",
       "      <th>Mouse ID</th>\n",
       "      <th>Drug Regimen</th>\n",
       "      <th>Sex</th>\n",
       "      <th>Age_months</th>\n",
       "      <th>Weight (g)</th>\n",
       "      <th>Timepoint</th>\n",
       "      <th>Tumor Volume (mm3)</th>\n",
       "      <th>Metastatic Sites</th>\n",
       "    </tr>\n",
       "  </thead>\n",
       "  <tbody>\n",
       "    <tr>\n",
       "      <th>0</th>\n",
       "      <td>k403</td>\n",
       "      <td>Ramicane</td>\n",
       "      <td>Male</td>\n",
       "      <td>21</td>\n",
       "      <td>16</td>\n",
       "      <td>0</td>\n",
       "      <td>45.000000</td>\n",
       "      <td>0</td>\n",
       "    </tr>\n",
       "    <tr>\n",
       "      <th>1</th>\n",
       "      <td>k403</td>\n",
       "      <td>Ramicane</td>\n",
       "      <td>Male</td>\n",
       "      <td>21</td>\n",
       "      <td>16</td>\n",
       "      <td>5</td>\n",
       "      <td>38.825898</td>\n",
       "      <td>0</td>\n",
       "    </tr>\n",
       "    <tr>\n",
       "      <th>2</th>\n",
       "      <td>k403</td>\n",
       "      <td>Ramicane</td>\n",
       "      <td>Male</td>\n",
       "      <td>21</td>\n",
       "      <td>16</td>\n",
       "      <td>10</td>\n",
       "      <td>35.014271</td>\n",
       "      <td>1</td>\n",
       "    </tr>\n",
       "    <tr>\n",
       "      <th>3</th>\n",
       "      <td>k403</td>\n",
       "      <td>Ramicane</td>\n",
       "      <td>Male</td>\n",
       "      <td>21</td>\n",
       "      <td>16</td>\n",
       "      <td>15</td>\n",
       "      <td>34.223992</td>\n",
       "      <td>1</td>\n",
       "    </tr>\n",
       "    <tr>\n",
       "      <th>4</th>\n",
       "      <td>k403</td>\n",
       "      <td>Ramicane</td>\n",
       "      <td>Male</td>\n",
       "      <td>21</td>\n",
       "      <td>16</td>\n",
       "      <td>20</td>\n",
       "      <td>32.997729</td>\n",
       "      <td>1</td>\n",
       "    </tr>\n",
       "  </tbody>\n",
       "</table>\n",
       "</div>"
      ],
      "text/plain": [
       "  Mouse ID Drug Regimen   Sex  Age_months  Weight (g)  Timepoint  \\\n",
       "0     k403     Ramicane  Male          21          16          0   \n",
       "1     k403     Ramicane  Male          21          16          5   \n",
       "2     k403     Ramicane  Male          21          16         10   \n",
       "3     k403     Ramicane  Male          21          16         15   \n",
       "4     k403     Ramicane  Male          21          16         20   \n",
       "\n",
       "   Tumor Volume (mm3)  Metastatic Sites  \n",
       "0           45.000000                 0  \n",
       "1           38.825898                 0  \n",
       "2           35.014271                 1  \n",
       "3           34.223992                 1  \n",
       "4           32.997729                 1  "
      ]
     },
     "execution_count": 11,
     "metadata": {},
     "output_type": "execute_result"
    }
   ],
   "source": [
    "# Dependencies and Setup\n",
    "import matplotlib.pyplot as plt\n",
    "import pandas as pd\n",
    "import scipy.stats as st\n",
    "\n",
    "# Study data files\n",
    "mouse_metadata_path = \"data/Mouse_metadata.csv\"\n",
    "study_results_path = \"data/Study_results.csv\"\n",
    "\n",
    "# Read the mouse data and the study results\n",
    "mouse_metadata = pd.read_csv(mouse_metadata_path)\n",
    "study_results = pd.read_csv(study_results_path)\n",
    "\n",
    "print(mouse_metadata.head())\n",
    "print(study_results.head())\n",
    "# Combine the data into a single dataset\n",
    "data=pd.merge(mouse_metadata,study_results, how='outer', on='Mouse ID')\n",
    "\n",
    "# Display the data table for preview\n",
    "data.head(5)"
   ]
  },
  {
   "cell_type": "code",
   "execution_count": 12,
   "metadata": {},
   "outputs": [
    {
     "name": "stdout",
     "output_type": "stream",
     "text": [
      "Number of mice are = 249\n"
     ]
    }
   ],
   "source": [
    "# Checking the number of mice.\n",
    "print (f\"Number of mice are =\", data['Mouse ID'].nunique())"
   ]
  },
  {
   "cell_type": "code",
   "execution_count": 13,
   "metadata": {},
   "outputs": [
    {
     "data": {
      "text/plain": [
       "<bound method NDFrame.head of      Mouse ID Drug Regimen   Sex  Age_months  Weight (g) Timepoint  \\\n",
       "0        k403     Ramicane  Male          21          16         0   \n",
       "1        k403     Ramicane  Male          21          16         5   \n",
       "2        k403     Ramicane  Male          21          16        10   \n",
       "3        k403     Ramicane  Male          21          16        15   \n",
       "4        k403     Ramicane  Male          21          16        20   \n",
       "...       ...          ...   ...         ...         ...       ...   \n",
       "1888     z969     Naftisol  Male           9          30        25   \n",
       "1889     z969     Naftisol  Male           9          30        30   \n",
       "1890     z969     Naftisol  Male           9          30        35   \n",
       "1891     z969     Naftisol  Male           9          30        40   \n",
       "1892     z969     Naftisol  Male           9          30        45   \n",
       "\n",
       "      Tumor Volume (mm3)  Metastatic Sites Duplicate ID  \n",
       "0              45.000000                 0        0k403  \n",
       "1              38.825898                 0        5k403  \n",
       "2              35.014271                 1       10k403  \n",
       "3              34.223992                 1       15k403  \n",
       "4              32.997729                 1       20k403  \n",
       "...                  ...               ...          ...  \n",
       "1888           63.145652                 2       25z969  \n",
       "1889           65.841013                 3       30z969  \n",
       "1890           69.176246                 4       35z969  \n",
       "1891           70.314904                 4       40z969  \n",
       "1892           73.867845                 4       45z969  \n",
       "\n",
       "[1893 rows x 9 columns]>"
      ]
     },
     "execution_count": 13,
     "metadata": {},
     "output_type": "execute_result"
    }
   ],
   "source": [
    "#Getting the duplicate mice by ID number that shows up for Mouse ID and Timepoint. \n",
    "data['Timepoint'] = data['Timepoint'].astype(str)\n",
    "data['Duplicate ID'] = data['Timepoint'].str.cat(data['Mouse ID'],sep=\"\")\n",
    "data.head"
   ]
  },
  {
   "cell_type": "code",
   "execution_count": 14,
   "metadata": {},
   "outputs": [
    {
     "data": {
      "text/html": [
       "<div>\n",
       "<style scoped>\n",
       "    .dataframe tbody tr th:only-of-type {\n",
       "        vertical-align: middle;\n",
       "    }\n",
       "\n",
       "    .dataframe tbody tr th {\n",
       "        vertical-align: top;\n",
       "    }\n",
       "\n",
       "    .dataframe thead th {\n",
       "        text-align: right;\n",
       "    }\n",
       "</style>\n",
       "<table border=\"1\" class=\"dataframe\">\n",
       "  <thead>\n",
       "    <tr style=\"text-align: right;\">\n",
       "      <th></th>\n",
       "      <th>Mouse ID</th>\n",
       "      <th>Drug Regimen</th>\n",
       "      <th>Sex</th>\n",
       "      <th>Age_months</th>\n",
       "      <th>Weight (g)</th>\n",
       "      <th>Timepoint</th>\n",
       "      <th>Tumor Volume (mm3)</th>\n",
       "      <th>Metastatic Sites</th>\n",
       "      <th>Duplicate ID</th>\n",
       "    </tr>\n",
       "  </thead>\n",
       "  <tbody>\n",
       "    <tr>\n",
       "      <th>909</th>\n",
       "      <td>g989</td>\n",
       "      <td>Propriva</td>\n",
       "      <td>Female</td>\n",
       "      <td>21</td>\n",
       "      <td>26</td>\n",
       "      <td>0</td>\n",
       "      <td>45.000000</td>\n",
       "      <td>0</td>\n",
       "      <td>0g989</td>\n",
       "    </tr>\n",
       "    <tr>\n",
       "      <th>911</th>\n",
       "      <td>g989</td>\n",
       "      <td>Propriva</td>\n",
       "      <td>Female</td>\n",
       "      <td>21</td>\n",
       "      <td>26</td>\n",
       "      <td>5</td>\n",
       "      <td>47.570392</td>\n",
       "      <td>0</td>\n",
       "      <td>5g989</td>\n",
       "    </tr>\n",
       "    <tr>\n",
       "      <th>913</th>\n",
       "      <td>g989</td>\n",
       "      <td>Propriva</td>\n",
       "      <td>Female</td>\n",
       "      <td>21</td>\n",
       "      <td>26</td>\n",
       "      <td>10</td>\n",
       "      <td>49.880528</td>\n",
       "      <td>0</td>\n",
       "      <td>10g989</td>\n",
       "    </tr>\n",
       "    <tr>\n",
       "      <th>915</th>\n",
       "      <td>g989</td>\n",
       "      <td>Propriva</td>\n",
       "      <td>Female</td>\n",
       "      <td>21</td>\n",
       "      <td>26</td>\n",
       "      <td>15</td>\n",
       "      <td>53.442020</td>\n",
       "      <td>0</td>\n",
       "      <td>15g989</td>\n",
       "    </tr>\n",
       "    <tr>\n",
       "      <th>917</th>\n",
       "      <td>g989</td>\n",
       "      <td>Propriva</td>\n",
       "      <td>Female</td>\n",
       "      <td>21</td>\n",
       "      <td>26</td>\n",
       "      <td>20</td>\n",
       "      <td>54.657650</td>\n",
       "      <td>1</td>\n",
       "      <td>20g989</td>\n",
       "    </tr>\n",
       "  </tbody>\n",
       "</table>\n",
       "</div>"
      ],
      "text/plain": [
       "    Mouse ID Drug Regimen     Sex  Age_months  Weight (g) Timepoint  \\\n",
       "909     g989     Propriva  Female          21          26         0   \n",
       "911     g989     Propriva  Female          21          26         5   \n",
       "913     g989     Propriva  Female          21          26        10   \n",
       "915     g989     Propriva  Female          21          26        15   \n",
       "917     g989     Propriva  Female          21          26        20   \n",
       "\n",
       "     Tumor Volume (mm3)  Metastatic Sites Duplicate ID  \n",
       "909           45.000000                 0        0g989  \n",
       "911           47.570392                 0        5g989  \n",
       "913           49.880528                 0       10g989  \n",
       "915           53.442020                 0       15g989  \n",
       "917           54.657650                 1       20g989  "
      ]
     },
     "execution_count": 14,
     "metadata": {},
     "output_type": "execute_result"
    }
   ],
   "source": [
    "# there are (1893-1888)5 records of duplicates. \n",
    "duplicate = data[data['Duplicate ID'].duplicated()] \n",
    "duplicate"
   ]
  },
  {
   "cell_type": "code",
   "execution_count": 15,
   "metadata": {},
   "outputs": [
    {
     "data": {
      "text/plain": [
       "1888"
      ]
     },
     "execution_count": 15,
     "metadata": {},
     "output_type": "execute_result"
    }
   ],
   "source": [
    "#Optional: Get all the data for the duplicate mouse ID. This assignment suggesting to drop Mouse 'g989'\n",
    "\n",
    "data['Duplicate ID'].nunique()"
   ]
  },
  {
   "cell_type": "code",
   "execution_count": 49,
   "metadata": {},
   "outputs": [
    {
     "data": {
      "text/html": [
       "<div>\n",
       "<style scoped>\n",
       "    .dataframe tbody tr th:only-of-type {\n",
       "        vertical-align: middle;\n",
       "    }\n",
       "\n",
       "    .dataframe tbody tr th {\n",
       "        vertical-align: top;\n",
       "    }\n",
       "\n",
       "    .dataframe thead th {\n",
       "        text-align: right;\n",
       "    }\n",
       "</style>\n",
       "<table border=\"1\" class=\"dataframe\">\n",
       "  <thead>\n",
       "    <tr style=\"text-align: right;\">\n",
       "      <th></th>\n",
       "      <th>Mouse ID</th>\n",
       "      <th>Drug Regimen</th>\n",
       "      <th>Sex</th>\n",
       "      <th>Age_months</th>\n",
       "      <th>Weight (g)</th>\n",
       "      <th>Timepoint</th>\n",
       "      <th>Tumor Volume (mm3)</th>\n",
       "      <th>Metastatic Sites</th>\n",
       "      <th>Duplicate ID</th>\n",
       "    </tr>\n",
       "  </thead>\n",
       "  <tbody>\n",
       "    <tr>\n",
       "      <th>0</th>\n",
       "      <td>k403</td>\n",
       "      <td>Ramicane</td>\n",
       "      <td>Male</td>\n",
       "      <td>21</td>\n",
       "      <td>16</td>\n",
       "      <td>0.0</td>\n",
       "      <td>45.000000</td>\n",
       "      <td>0</td>\n",
       "      <td>0k403</td>\n",
       "    </tr>\n",
       "    <tr>\n",
       "      <th>1</th>\n",
       "      <td>k403</td>\n",
       "      <td>Ramicane</td>\n",
       "      <td>Male</td>\n",
       "      <td>21</td>\n",
       "      <td>16</td>\n",
       "      <td>5.0</td>\n",
       "      <td>38.825898</td>\n",
       "      <td>0</td>\n",
       "      <td>5k403</td>\n",
       "    </tr>\n",
       "    <tr>\n",
       "      <th>2</th>\n",
       "      <td>k403</td>\n",
       "      <td>Ramicane</td>\n",
       "      <td>Male</td>\n",
       "      <td>21</td>\n",
       "      <td>16</td>\n",
       "      <td>10.0</td>\n",
       "      <td>35.014271</td>\n",
       "      <td>1</td>\n",
       "      <td>10k403</td>\n",
       "    </tr>\n",
       "    <tr>\n",
       "      <th>3</th>\n",
       "      <td>k403</td>\n",
       "      <td>Ramicane</td>\n",
       "      <td>Male</td>\n",
       "      <td>21</td>\n",
       "      <td>16</td>\n",
       "      <td>15.0</td>\n",
       "      <td>34.223992</td>\n",
       "      <td>1</td>\n",
       "      <td>15k403</td>\n",
       "    </tr>\n",
       "    <tr>\n",
       "      <th>4</th>\n",
       "      <td>k403</td>\n",
       "      <td>Ramicane</td>\n",
       "      <td>Male</td>\n",
       "      <td>21</td>\n",
       "      <td>16</td>\n",
       "      <td>20.0</td>\n",
       "      <td>32.997729</td>\n",
       "      <td>1</td>\n",
       "      <td>20k403</td>\n",
       "    </tr>\n",
       "    <tr>\n",
       "      <th>...</th>\n",
       "      <td>...</td>\n",
       "      <td>...</td>\n",
       "      <td>...</td>\n",
       "      <td>...</td>\n",
       "      <td>...</td>\n",
       "      <td>...</td>\n",
       "      <td>...</td>\n",
       "      <td>...</td>\n",
       "      <td>...</td>\n",
       "    </tr>\n",
       "    <tr>\n",
       "      <th>1888</th>\n",
       "      <td>z969</td>\n",
       "      <td>Naftisol</td>\n",
       "      <td>Male</td>\n",
       "      <td>9</td>\n",
       "      <td>30</td>\n",
       "      <td>25.0</td>\n",
       "      <td>63.145652</td>\n",
       "      <td>2</td>\n",
       "      <td>25z969</td>\n",
       "    </tr>\n",
       "    <tr>\n",
       "      <th>1889</th>\n",
       "      <td>z969</td>\n",
       "      <td>Naftisol</td>\n",
       "      <td>Male</td>\n",
       "      <td>9</td>\n",
       "      <td>30</td>\n",
       "      <td>30.0</td>\n",
       "      <td>65.841013</td>\n",
       "      <td>3</td>\n",
       "      <td>30z969</td>\n",
       "    </tr>\n",
       "    <tr>\n",
       "      <th>1890</th>\n",
       "      <td>z969</td>\n",
       "      <td>Naftisol</td>\n",
       "      <td>Male</td>\n",
       "      <td>9</td>\n",
       "      <td>30</td>\n",
       "      <td>35.0</td>\n",
       "      <td>69.176246</td>\n",
       "      <td>4</td>\n",
       "      <td>35z969</td>\n",
       "    </tr>\n",
       "    <tr>\n",
       "      <th>1891</th>\n",
       "      <td>z969</td>\n",
       "      <td>Naftisol</td>\n",
       "      <td>Male</td>\n",
       "      <td>9</td>\n",
       "      <td>30</td>\n",
       "      <td>40.0</td>\n",
       "      <td>70.314904</td>\n",
       "      <td>4</td>\n",
       "      <td>40z969</td>\n",
       "    </tr>\n",
       "    <tr>\n",
       "      <th>1892</th>\n",
       "      <td>z969</td>\n",
       "      <td>Naftisol</td>\n",
       "      <td>Male</td>\n",
       "      <td>9</td>\n",
       "      <td>30</td>\n",
       "      <td>45.0</td>\n",
       "      <td>73.867845</td>\n",
       "      <td>4</td>\n",
       "      <td>45z969</td>\n",
       "    </tr>\n",
       "  </tbody>\n",
       "</table>\n",
       "<p>1880 rows × 9 columns</p>\n",
       "</div>"
      ],
      "text/plain": [
       "     Mouse ID Drug Regimen   Sex  Age_months  Weight (g)  Timepoint  \\\n",
       "0        k403     Ramicane  Male          21          16        0.0   \n",
       "1        k403     Ramicane  Male          21          16        5.0   \n",
       "2        k403     Ramicane  Male          21          16       10.0   \n",
       "3        k403     Ramicane  Male          21          16       15.0   \n",
       "4        k403     Ramicane  Male          21          16       20.0   \n",
       "...       ...          ...   ...         ...         ...        ...   \n",
       "1888     z969     Naftisol  Male           9          30       25.0   \n",
       "1889     z969     Naftisol  Male           9          30       30.0   \n",
       "1890     z969     Naftisol  Male           9          30       35.0   \n",
       "1891     z969     Naftisol  Male           9          30       40.0   \n",
       "1892     z969     Naftisol  Male           9          30       45.0   \n",
       "\n",
       "      Tumor Volume (mm3)  Metastatic Sites Duplicate ID  \n",
       "0              45.000000                 0        0k403  \n",
       "1              38.825898                 0        5k403  \n",
       "2              35.014271                 1       10k403  \n",
       "3              34.223992                 1       15k403  \n",
       "4              32.997729                 1       20k403  \n",
       "...                  ...               ...          ...  \n",
       "1888           63.145652                 2       25z969  \n",
       "1889           65.841013                 3       30z969  \n",
       "1890           69.176246                 4       35z969  \n",
       "1891           70.314904                 4       40z969  \n",
       "1892           73.867845                 4       45z969  \n",
       "\n",
       "[1880 rows x 9 columns]"
      ]
     },
     "execution_count": 49,
     "metadata": {},
     "output_type": "execute_result"
    }
   ],
   "source": [
    "# Create a clean DataFrame by dropping the duplicate mouse by its ID\n",
    "data.drop(data.loc[data['Mouse ID']=='g989'].index,inplace=True)\n",
    "data.dropna()"
   ]
  },
  {
   "cell_type": "code",
   "execution_count": 50,
   "metadata": {},
   "outputs": [
    {
     "name": "stdout",
     "output_type": "stream",
     "text": [
      "Number of mice are = 248\n"
     ]
    }
   ],
   "source": [
    "# Checking the number of mice in the clean DataFrame. it should be same as we dropped only the duplicate values\n",
    "#(at specific time )point.number of records are less but the number of mice remains same\n",
    "print (f\"Number of mice are =\", data['Mouse ID'].nunique())"
   ]
  },
  {
   "cell_type": "markdown",
   "metadata": {},
   "source": [
    "## Summary Statistics"
   ]
  },
  {
   "cell_type": "code",
   "execution_count": 51,
   "metadata": {},
   "outputs": [],
   "source": [
    "# Generate a summary statistics table of mean, median, variance, standard deviation, and SEM of the tumor volume for each regimen\n",
    "\n",
    "# Use groupby and summary statistical methods to calculate the following properties of each drug regimen: \n",
    "# mean, median, variance, standard deviation, and SEM of the tumor volume. \n",
    "# Assemble the resulting series into a single summary dataframe.\n",
    "mean_data=data.groupby(['Drug Regimen'])[['Tumor Volume (mm3)']].mean()\n",
    "re_mean_data=mean_data.rename({'Tumor Volume (mm3)':'Tumor Volume (mm3)-Mean'},axis='columns')\n",
    "med_data=data.groupby(['Drug Regimen'])['Tumor Volume (mm3)'].median()\n",
    "re_med_data=med_data.rename({'Tumor Volume (mm3)':'Tumor Volume (mm3)-Mdian'},axis='columns')\n",
    "var_data=data.groupby(['Drug Regimen'])[['Tumor Volume (mm3)']].var()\n",
    "re_var_data=var_data.rename({'Tumor Volume (mm3)':'Tumor Volume (mm3)-Variance'}, axis='columns')\n",
    "std_data=data.groupby(['Drug Regimen'])[['Tumor Volume (mm3)']].std()\n",
    "re_std_data=std_data.rename({'Tumor Volume (mm3)':'Tumor Volume (mm3)-STD'}, axis='columns')\n",
    "sem_data=data.groupby(['Drug Regimen'])[['Tumor Volume (mm3)']].sem()\n",
    "re_sem_data=sem_data.rename({'Tumor Volume (mm3)':'Tumor Volume (mm3)-SEM'}, axis='columns')"
   ]
  },
  {
   "cell_type": "code",
   "execution_count": 52,
   "metadata": {},
   "outputs": [],
   "source": [
    "#re_med_data=med_data.rename({'Tumor Volume (mm3)':'Tumor Volume (mm3)_Median'},axis='columns')\n",
    "\n",
    "#re_med_data.head()\n",
    "#med_data.head()"
   ]
  },
  {
   "cell_type": "code",
   "execution_count": 53,
   "metadata": {},
   "outputs": [
    {
     "data": {
      "text/html": [
       "<div>\n",
       "<style scoped>\n",
       "    .dataframe tbody tr th:only-of-type {\n",
       "        vertical-align: middle;\n",
       "    }\n",
       "\n",
       "    .dataframe tbody tr th {\n",
       "        vertical-align: top;\n",
       "    }\n",
       "\n",
       "    .dataframe thead th {\n",
       "        text-align: right;\n",
       "    }\n",
       "</style>\n",
       "<table border=\"1\" class=\"dataframe\">\n",
       "  <thead>\n",
       "    <tr style=\"text-align: right;\">\n",
       "      <th></th>\n",
       "      <th>Tumor Volume (mm3)-Mean</th>\n",
       "      <th>Tumor Volume (mm3)</th>\n",
       "      <th>Tumor Volume (mm3)-Variance</th>\n",
       "      <th>Tumor Volume (mm3)-STD</th>\n",
       "      <th>Tumor Volume (mm3)-SEM</th>\n",
       "    </tr>\n",
       "    <tr>\n",
       "      <th>Drug Regimen</th>\n",
       "      <th></th>\n",
       "      <th></th>\n",
       "      <th></th>\n",
       "      <th></th>\n",
       "      <th></th>\n",
       "    </tr>\n",
       "  </thead>\n",
       "  <tbody>\n",
       "    <tr>\n",
       "      <th>Capomulin</th>\n",
       "      <td>40.675741</td>\n",
       "      <td>41.557809</td>\n",
       "      <td>24.947764</td>\n",
       "      <td>4.994774</td>\n",
       "      <td>0.329346</td>\n",
       "    </tr>\n",
       "    <tr>\n",
       "      <th>Ceftamin</th>\n",
       "      <td>52.591172</td>\n",
       "      <td>51.776157</td>\n",
       "      <td>39.290177</td>\n",
       "      <td>6.268188</td>\n",
       "      <td>0.469821</td>\n",
       "    </tr>\n",
       "    <tr>\n",
       "      <th>Infubinol</th>\n",
       "      <td>52.884795</td>\n",
       "      <td>51.820584</td>\n",
       "      <td>43.128684</td>\n",
       "      <td>6.567243</td>\n",
       "      <td>0.492236</td>\n",
       "    </tr>\n",
       "    <tr>\n",
       "      <th>Ketapril</th>\n",
       "      <td>55.235638</td>\n",
       "      <td>53.698743</td>\n",
       "      <td>68.553577</td>\n",
       "      <td>8.279709</td>\n",
       "      <td>0.603860</td>\n",
       "    </tr>\n",
       "    <tr>\n",
       "      <th>Naftisol</th>\n",
       "      <td>54.331565</td>\n",
       "      <td>52.509285</td>\n",
       "      <td>66.173479</td>\n",
       "      <td>8.134708</td>\n",
       "      <td>0.596466</td>\n",
       "    </tr>\n",
       "    <tr>\n",
       "      <th>Placebo</th>\n",
       "      <td>54.033581</td>\n",
       "      <td>52.288934</td>\n",
       "      <td>61.168083</td>\n",
       "      <td>7.821003</td>\n",
       "      <td>0.581331</td>\n",
       "    </tr>\n",
       "    <tr>\n",
       "      <th>Propriva</th>\n",
       "      <td>52.320930</td>\n",
       "      <td>50.446266</td>\n",
       "      <td>43.852013</td>\n",
       "      <td>6.622085</td>\n",
       "      <td>0.544332</td>\n",
       "    </tr>\n",
       "    <tr>\n",
       "      <th>Ramicane</th>\n",
       "      <td>40.216745</td>\n",
       "      <td>40.673236</td>\n",
       "      <td>23.486704</td>\n",
       "      <td>4.846308</td>\n",
       "      <td>0.320955</td>\n",
       "    </tr>\n",
       "    <tr>\n",
       "      <th>Stelasyn</th>\n",
       "      <td>54.233149</td>\n",
       "      <td>52.431737</td>\n",
       "      <td>59.450562</td>\n",
       "      <td>7.710419</td>\n",
       "      <td>0.573111</td>\n",
       "    </tr>\n",
       "    <tr>\n",
       "      <th>Zoniferol</th>\n",
       "      <td>53.236507</td>\n",
       "      <td>51.818479</td>\n",
       "      <td>48.533355</td>\n",
       "      <td>6.966589</td>\n",
       "      <td>0.516398</td>\n",
       "    </tr>\n",
       "  </tbody>\n",
       "</table>\n",
       "</div>"
      ],
      "text/plain": [
       "              Tumor Volume (mm3)-Mean  Tumor Volume (mm3)  \\\n",
       "Drug Regimen                                                \n",
       "Capomulin                   40.675741           41.557809   \n",
       "Ceftamin                    52.591172           51.776157   \n",
       "Infubinol                   52.884795           51.820584   \n",
       "Ketapril                    55.235638           53.698743   \n",
       "Naftisol                    54.331565           52.509285   \n",
       "Placebo                     54.033581           52.288934   \n",
       "Propriva                    52.320930           50.446266   \n",
       "Ramicane                    40.216745           40.673236   \n",
       "Stelasyn                    54.233149           52.431737   \n",
       "Zoniferol                   53.236507           51.818479   \n",
       "\n",
       "              Tumor Volume (mm3)-Variance  Tumor Volume (mm3)-STD  \\\n",
       "Drug Regimen                                                        \n",
       "Capomulin                       24.947764                4.994774   \n",
       "Ceftamin                        39.290177                6.268188   \n",
       "Infubinol                       43.128684                6.567243   \n",
       "Ketapril                        68.553577                8.279709   \n",
       "Naftisol                        66.173479                8.134708   \n",
       "Placebo                         61.168083                7.821003   \n",
       "Propriva                        43.852013                6.622085   \n",
       "Ramicane                        23.486704                4.846308   \n",
       "Stelasyn                        59.450562                7.710419   \n",
       "Zoniferol                       48.533355                6.966589   \n",
       "\n",
       "              Tumor Volume (mm3)-SEM  \n",
       "Drug Regimen                          \n",
       "Capomulin                   0.329346  \n",
       "Ceftamin                    0.469821  \n",
       "Infubinol                   0.492236  \n",
       "Ketapril                    0.603860  \n",
       "Naftisol                    0.596466  \n",
       "Placebo                     0.581331  \n",
       "Propriva                    0.544332  \n",
       "Ramicane                    0.320955  \n",
       "Stelasyn                    0.573111  \n",
       "Zoniferol                   0.516398  "
      ]
     },
     "execution_count": 53,
     "metadata": {},
     "output_type": "execute_result"
    }
   ],
   "source": [
    "mean_med_data = pd.merge(re_mean_data, re_med_data, on='Drug Regimen',how='inner')\n",
    "mean_med_var_data=pd.merge(mean_med_data, re_var_data, on='Drug Regimen',how='inner')\n",
    "mean_med_var_std_data=pd.merge(mean_med_var_data, re_std_data, on='Drug Regimen',how='inner')\n",
    "Summary_data=pd.merge(mean_med_var_std_data, re_sem_data, on='Drug Regimen',how='inner')\n",
    "#re_Summary_data=Summary_data.rename({'Tumor Volume (mm3)':'Tumor Volume (mm3)-Median'},axis='columns')\n",
    "Summary_data.head(10)"
   ]
  },
  {
   "cell_type": "code",
   "execution_count": 54,
   "metadata": {},
   "outputs": [
    {
     "data": {
      "text/html": [
       "<div>\n",
       "<style scoped>\n",
       "    .dataframe tbody tr th:only-of-type {\n",
       "        vertical-align: middle;\n",
       "    }\n",
       "\n",
       "    .dataframe tbody tr th {\n",
       "        vertical-align: top;\n",
       "    }\n",
       "\n",
       "    .dataframe thead tr th {\n",
       "        text-align: left;\n",
       "    }\n",
       "\n",
       "    .dataframe thead tr:last-of-type th {\n",
       "        text-align: right;\n",
       "    }\n",
       "</style>\n",
       "<table border=\"1\" class=\"dataframe\">\n",
       "  <thead>\n",
       "    <tr>\n",
       "      <th></th>\n",
       "      <th colspan=\"5\" halign=\"left\">Tumor Volume (mm3)</th>\n",
       "    </tr>\n",
       "    <tr>\n",
       "      <th></th>\n",
       "      <th>mean</th>\n",
       "      <th>median</th>\n",
       "      <th>var</th>\n",
       "      <th>std</th>\n",
       "      <th>sem</th>\n",
       "    </tr>\n",
       "    <tr>\n",
       "      <th>Drug Regimen</th>\n",
       "      <th></th>\n",
       "      <th></th>\n",
       "      <th></th>\n",
       "      <th></th>\n",
       "      <th></th>\n",
       "    </tr>\n",
       "  </thead>\n",
       "  <tbody>\n",
       "    <tr>\n",
       "      <th>Capomulin</th>\n",
       "      <td>40.675741</td>\n",
       "      <td>41.557809</td>\n",
       "      <td>24.947764</td>\n",
       "      <td>4.994774</td>\n",
       "      <td>0.329346</td>\n",
       "    </tr>\n",
       "    <tr>\n",
       "      <th>Ceftamin</th>\n",
       "      <td>52.591172</td>\n",
       "      <td>51.776157</td>\n",
       "      <td>39.290177</td>\n",
       "      <td>6.268188</td>\n",
       "      <td>0.469821</td>\n",
       "    </tr>\n",
       "    <tr>\n",
       "      <th>Infubinol</th>\n",
       "      <td>52.884795</td>\n",
       "      <td>51.820584</td>\n",
       "      <td>43.128684</td>\n",
       "      <td>6.567243</td>\n",
       "      <td>0.492236</td>\n",
       "    </tr>\n",
       "    <tr>\n",
       "      <th>Ketapril</th>\n",
       "      <td>55.235638</td>\n",
       "      <td>53.698743</td>\n",
       "      <td>68.553577</td>\n",
       "      <td>8.279709</td>\n",
       "      <td>0.603860</td>\n",
       "    </tr>\n",
       "    <tr>\n",
       "      <th>Naftisol</th>\n",
       "      <td>54.331565</td>\n",
       "      <td>52.509285</td>\n",
       "      <td>66.173479</td>\n",
       "      <td>8.134708</td>\n",
       "      <td>0.596466</td>\n",
       "    </tr>\n",
       "    <tr>\n",
       "      <th>Placebo</th>\n",
       "      <td>54.033581</td>\n",
       "      <td>52.288934</td>\n",
       "      <td>61.168083</td>\n",
       "      <td>7.821003</td>\n",
       "      <td>0.581331</td>\n",
       "    </tr>\n",
       "    <tr>\n",
       "      <th>Propriva</th>\n",
       "      <td>52.320930</td>\n",
       "      <td>50.446266</td>\n",
       "      <td>43.852013</td>\n",
       "      <td>6.622085</td>\n",
       "      <td>0.544332</td>\n",
       "    </tr>\n",
       "    <tr>\n",
       "      <th>Ramicane</th>\n",
       "      <td>40.216745</td>\n",
       "      <td>40.673236</td>\n",
       "      <td>23.486704</td>\n",
       "      <td>4.846308</td>\n",
       "      <td>0.320955</td>\n",
       "    </tr>\n",
       "    <tr>\n",
       "      <th>Stelasyn</th>\n",
       "      <td>54.233149</td>\n",
       "      <td>52.431737</td>\n",
       "      <td>59.450562</td>\n",
       "      <td>7.710419</td>\n",
       "      <td>0.573111</td>\n",
       "    </tr>\n",
       "    <tr>\n",
       "      <th>Zoniferol</th>\n",
       "      <td>53.236507</td>\n",
       "      <td>51.818479</td>\n",
       "      <td>48.533355</td>\n",
       "      <td>6.966589</td>\n",
       "      <td>0.516398</td>\n",
       "    </tr>\n",
       "  </tbody>\n",
       "</table>\n",
       "</div>"
      ],
      "text/plain": [
       "             Tumor Volume (mm3)                                          \n",
       "                           mean     median        var       std       sem\n",
       "Drug Regimen                                                             \n",
       "Capomulin             40.675741  41.557809  24.947764  4.994774  0.329346\n",
       "Ceftamin              52.591172  51.776157  39.290177  6.268188  0.469821\n",
       "Infubinol             52.884795  51.820584  43.128684  6.567243  0.492236\n",
       "Ketapril              55.235638  53.698743  68.553577  8.279709  0.603860\n",
       "Naftisol              54.331565  52.509285  66.173479  8.134708  0.596466\n",
       "Placebo               54.033581  52.288934  61.168083  7.821003  0.581331\n",
       "Propriva              52.320930  50.446266  43.852013  6.622085  0.544332\n",
       "Ramicane              40.216745  40.673236  23.486704  4.846308  0.320955\n",
       "Stelasyn              54.233149  52.431737  59.450562  7.710419  0.573111\n",
       "Zoniferol             53.236507  51.818479  48.533355  6.966589  0.516398"
      ]
     },
     "execution_count": 54,
     "metadata": {},
     "output_type": "execute_result"
    }
   ],
   "source": [
    "\n",
    "# Using the aggregation method, produce the same summary statistics in a single line\n",
    "Agg_Summary = data.groupby('Drug Regimen').agg({'Tumor Volume (mm3)': ['mean', 'median', 'var','std','sem']})\n",
    "Agg_Summary"
   ]
  },
  {
   "cell_type": "markdown",
   "metadata": {},
   "source": [
    "## Bar and Pie Charts"
   ]
  },
  {
   "cell_type": "code",
   "execution_count": 55,
   "metadata": {},
   "outputs": [
    {
     "data": {
      "text/plain": [
       "Text(0, 0.5, 'Total Number of Measurement')"
      ]
     },
     "execution_count": 55,
     "metadata": {},
     "output_type": "execute_result"
    },
    {
     "data": {
      "image/png": "[encoded data removed]",
      "text/plain": [
       "<Figure size 1008x576 with 1 Axes>"
      ]
     },
     "metadata": {
      "needs_background": "light"
     },
     "output_type": "display_data"
    }
   ],
   "source": [
    "# Generate a bar plot showing the total number of measurements taken on each drug regimen using pandas.\n",
    "frq_plot=data['Drug Regimen'].value_counts().plot(kind='bar',figsize=(14,8),title='Measuring Frequency')\n",
    "frq_plot.set_xlabel('Drug Regimen')\n",
    "frq_plot.set_ylabel('Total Number of Measurement')\n"
   ]
  },
  {
   "cell_type": "code",
   "execution_count": 56,
   "metadata": {},
   "outputs": [
    {
     "data": {
      "image/png": "[encoded data removed]",
      "text/plain": [
       "<Figure size 432x288 with 1 Axes>"
      ]
     },
     "metadata": {
      "needs_background": "light"
     },
     "output_type": "display_data"
    }
   ],
   "source": [
    "# Generate a bar plot showing the total number of measurements taken on each drug regimen using pyplot.\n",
    "measure_data=data['Drug Regimen'].value_counts()\n",
    "measure_data.plot(kind='bar')\n",
    "plt.title('Measuring Frequency')\n",
    "plt.xlabel('Drug Regimen')\n",
    "plt.ylabel('Total Number of Measurement')\n",
    "plt.show()"
   ]
  },
  {
   "cell_type": "code",
   "execution_count": 57,
   "metadata": {},
   "outputs": [
    {
     "name": "stdout",
     "output_type": "stream",
     "text": [
      "gender_data details\n",
      " Sex\n",
      "Female    922\n",
      "Male      958\n",
      "Name: Mouse ID, dtype: int64\n"
     ]
    },
    {
     "data": {
      "image/png": "[encoded data removed]",
      "text/plain": [
       "<Figure size 432x288 with 1 Axes>"
      ]
     },
     "metadata": {},
     "output_type": "display_data"
    }
   ],
   "source": [
    "# Generate a pie plot showing the distribution of female versus male mice using pandas\n",
    "gender_data=data.groupby('Sex')['Mouse ID'].count()\n",
    "print('gender_data details''\\n', gender_data.head())\n",
    "labels=list(gender_data.index)\n",
    "colors = [\"orange\", \"blue\"]\n",
    "plt.pie(gender_data, labels=labels, colors=colors,\n",
    "        autopct=\"%1.1f%%\", shadow=True, startangle=180)\n",
    "plt.title('Male / Female Mouse ditribution')\n",
    "plt.ylabel('Sex')\n",
    "\n",
    "plt.show()"
   ]
  },
  {
   "cell_type": "code",
   "execution_count": 58,
   "metadata": {},
   "outputs": [
    {
     "data": {
      "image/png": "[encoded data removed]",
      "text/plain": [
       "<Figure size 360x360 with 1 Axes>"
      ]
     },
     "metadata": {},
     "output_type": "display_data"
    }
   ],
   "source": [
    "# Generate a pie plot showing the distribution of female versus male mice using pyplot\n",
    "pltpie = gender_data.plot.pie(y=gender_data, figsize=(5, 5), autopct=\"%1.1f%%\",startangle=180)\n",
    "plt.title('Male / Female Mouse ditribution')\n",
    "plt.ylabel('Sex')\n",
    "\n",
    "plt.show()"
   ]
  },
  {
   "cell_type": "markdown",
   "metadata": {},
   "source": [
    "## Quartiles, Outliers and Boxplots"
   ]
  },
  {
   "cell_type": "code",
   "execution_count": 59,
   "metadata": {},
   "outputs": [],
   "source": [
    "# Calculate the final tumor volume of each mouse across four of the treatment regimens:  \n",
    "# Capomulin, Ramicane, Infubinol, and Ceftamin\n",
    "data['Timepoint']=data['Timepoint'].astype(float)\n",
    "# Start by getting the last (greatest) timepoint for each mouse\n",
    "cap_data=data.loc[data['Drug Regimen']=='Capomulin']\n",
    "Ram_data=data.loc[data['Drug Regimen']=='Ramicane']\n",
    "Inf_data=data.loc[data['Drug Regimen']=='Infubinol']\n",
    "Cef_data=data.loc[data['Drug Regimen']=='Ceftamin']\n",
    "last_cap_data=cap_data.groupby('Mouse ID').max()['Timepoint']\n",
    "last_Ram_data=Ram_data.groupby('Mouse ID').max()['Timepoint']\n",
    "last_Inf_data=Inf_data.groupby('Mouse ID').max()['Timepoint']\n",
    "last_Cef_data=Cef_data.groupby('Mouse ID').max()['Timepoint']"
   ]
  },
  {
   "cell_type": "code",
   "execution_count": 60,
   "metadata": {},
   "outputs": [],
   "source": [
    "# Merge this group df with the original dataframe to get the tumor volume at the last timepoint\n",
    "cap_merge = pd.merge(last_cap_data, data, on=(\"Mouse ID\",\"Timepoint\"),how=\"left\")\n",
    "Ram_merge = pd.merge(last_Ram_data, data, on=(\"Mouse ID\",\"Timepoint\"),how=\"left\")\n",
    "Inf_merge = pd.merge(last_Inf_data, data, on=(\"Mouse ID\",\"Timepoint\"),how=\"left\")\n",
    "Cef_merge = pd.merge(last_Cef_data, data, on=(\"Mouse ID\",\"Timepoint\"),how=\"left\")\n"
   ]
  },
  {
   "cell_type": "code",
   "execution_count": 61,
   "metadata": {},
   "outputs": [
    {
     "data": {
      "text/html": [
       "<div>\n",
       "<style scoped>\n",
       "    .dataframe tbody tr th:only-of-type {\n",
       "        vertical-align: middle;\n",
       "    }\n",
       "\n",
       "    .dataframe tbody tr th {\n",
       "        vertical-align: top;\n",
       "    }\n",
       "\n",
       "    .dataframe thead th {\n",
       "        text-align: right;\n",
       "    }\n",
       "</style>\n",
       "<table border=\"1\" class=\"dataframe\">\n",
       "  <thead>\n",
       "    <tr style=\"text-align: right;\">\n",
       "      <th></th>\n",
       "      <th>Mouse ID</th>\n",
       "      <th>Timepoint</th>\n",
       "      <th>Drug Regimen</th>\n",
       "      <th>Sex</th>\n",
       "      <th>Age_months</th>\n",
       "      <th>Weight (g)</th>\n",
       "      <th>Tumor Volume (mm3)</th>\n",
       "      <th>Metastatic Sites</th>\n",
       "      <th>Duplicate ID</th>\n",
       "    </tr>\n",
       "  </thead>\n",
       "  <tbody>\n",
       "    <tr>\n",
       "      <th>0</th>\n",
       "      <td>b128</td>\n",
       "      <td>45.0</td>\n",
       "      <td>Capomulin</td>\n",
       "      <td>Female</td>\n",
       "      <td>9</td>\n",
       "      <td>22</td>\n",
       "      <td>38.982878</td>\n",
       "      <td>2</td>\n",
       "      <td>45b128</td>\n",
       "    </tr>\n",
       "    <tr>\n",
       "      <th>1</th>\n",
       "      <td>b742</td>\n",
       "      <td>45.0</td>\n",
       "      <td>Capomulin</td>\n",
       "      <td>Male</td>\n",
       "      <td>7</td>\n",
       "      <td>21</td>\n",
       "      <td>38.939633</td>\n",
       "      <td>0</td>\n",
       "      <td>45b742</td>\n",
       "    </tr>\n",
       "    <tr>\n",
       "      <th>2</th>\n",
       "      <td>f966</td>\n",
       "      <td>20.0</td>\n",
       "      <td>Capomulin</td>\n",
       "      <td>Male</td>\n",
       "      <td>16</td>\n",
       "      <td>17</td>\n",
       "      <td>30.485985</td>\n",
       "      <td>0</td>\n",
       "      <td>20f966</td>\n",
       "    </tr>\n",
       "    <tr>\n",
       "      <th>3</th>\n",
       "      <td>g288</td>\n",
       "      <td>45.0</td>\n",
       "      <td>Capomulin</td>\n",
       "      <td>Male</td>\n",
       "      <td>3</td>\n",
       "      <td>19</td>\n",
       "      <td>37.074024</td>\n",
       "      <td>1</td>\n",
       "      <td>45g288</td>\n",
       "    </tr>\n",
       "    <tr>\n",
       "      <th>4</th>\n",
       "      <td>g316</td>\n",
       "      <td>45.0</td>\n",
       "      <td>Capomulin</td>\n",
       "      <td>Female</td>\n",
       "      <td>22</td>\n",
       "      <td>22</td>\n",
       "      <td>40.159220</td>\n",
       "      <td>2</td>\n",
       "      <td>45g316</td>\n",
       "    </tr>\n",
       "    <tr>\n",
       "      <th>...</th>\n",
       "      <td>...</td>\n",
       "      <td>...</td>\n",
       "      <td>...</td>\n",
       "      <td>...</td>\n",
       "      <td>...</td>\n",
       "      <td>...</td>\n",
       "      <td>...</td>\n",
       "      <td>...</td>\n",
       "      <td>...</td>\n",
       "    </tr>\n",
       "    <tr>\n",
       "      <th>95</th>\n",
       "      <td>x226</td>\n",
       "      <td>0.0</td>\n",
       "      <td>Ceftamin</td>\n",
       "      <td>Male</td>\n",
       "      <td>23</td>\n",
       "      <td>28</td>\n",
       "      <td>45.000000</td>\n",
       "      <td>0</td>\n",
       "      <td>0x226</td>\n",
       "    </tr>\n",
       "    <tr>\n",
       "      <th>96</th>\n",
       "      <td>x581</td>\n",
       "      <td>45.0</td>\n",
       "      <td>Ceftamin</td>\n",
       "      <td>Female</td>\n",
       "      <td>19</td>\n",
       "      <td>28</td>\n",
       "      <td>64.634949</td>\n",
       "      <td>3</td>\n",
       "      <td>45x581</td>\n",
       "    </tr>\n",
       "    <tr>\n",
       "      <th>97</th>\n",
       "      <td>x822</td>\n",
       "      <td>45.0</td>\n",
       "      <td>Ceftamin</td>\n",
       "      <td>Male</td>\n",
       "      <td>3</td>\n",
       "      <td>29</td>\n",
       "      <td>61.386660</td>\n",
       "      <td>3</td>\n",
       "      <td>45x822</td>\n",
       "    </tr>\n",
       "    <tr>\n",
       "      <th>98</th>\n",
       "      <td>y769</td>\n",
       "      <td>45.0</td>\n",
       "      <td>Ceftamin</td>\n",
       "      <td>Female</td>\n",
       "      <td>6</td>\n",
       "      <td>27</td>\n",
       "      <td>68.594745</td>\n",
       "      <td>4</td>\n",
       "      <td>45y769</td>\n",
       "    </tr>\n",
       "    <tr>\n",
       "      <th>99</th>\n",
       "      <td>y865</td>\n",
       "      <td>45.0</td>\n",
       "      <td>Ceftamin</td>\n",
       "      <td>Male</td>\n",
       "      <td>23</td>\n",
       "      <td>26</td>\n",
       "      <td>64.729837</td>\n",
       "      <td>3</td>\n",
       "      <td>45y865</td>\n",
       "    </tr>\n",
       "  </tbody>\n",
       "</table>\n",
       "<p>100 rows × 9 columns</p>\n",
       "</div>"
      ],
      "text/plain": [
       "   Mouse ID  Timepoint Drug Regimen     Sex  Age_months  Weight (g)  \\\n",
       "0      b128       45.0    Capomulin  Female           9          22   \n",
       "1      b742       45.0    Capomulin    Male           7          21   \n",
       "2      f966       20.0    Capomulin    Male          16          17   \n",
       "3      g288       45.0    Capomulin    Male           3          19   \n",
       "4      g316       45.0    Capomulin  Female          22          22   \n",
       "..      ...        ...          ...     ...         ...         ...   \n",
       "95     x226        0.0     Ceftamin    Male          23          28   \n",
       "96     x581       45.0     Ceftamin  Female          19          28   \n",
       "97     x822       45.0     Ceftamin    Male           3          29   \n",
       "98     y769       45.0     Ceftamin  Female           6          27   \n",
       "99     y865       45.0     Ceftamin    Male          23          26   \n",
       "\n",
       "    Tumor Volume (mm3)  Metastatic Sites Duplicate ID  \n",
       "0            38.982878                 2       45b128  \n",
       "1            38.939633                 0       45b742  \n",
       "2            30.485985                 0       20f966  \n",
       "3            37.074024                 1       45g288  \n",
       "4            40.159220                 2       45g316  \n",
       "..                 ...               ...          ...  \n",
       "95           45.000000                 0        0x226  \n",
       "96           64.634949                 3       45x581  \n",
       "97           61.386660                 3       45x822  \n",
       "98           68.594745                 4       45y769  \n",
       "99           64.729837                 3       45y865  \n",
       "\n",
       "[100 rows x 9 columns]"
      ]
     },
     "execution_count": 61,
     "metadata": {},
     "output_type": "execute_result"
    }
   ],
   "source": [
    "#merging all df's with final tumer volume\n",
    "merge1=cap_merge.append(Ram_merge, ignore_index=True)\n",
    "merge2=Inf_merge.append(Cef_merge, ignore_index=True)\n",
    "merge_vol_data=merge1.append(merge2, ignore_index=True)\n",
    "merge_vol_data"
   ]
  },
  {
   "cell_type": "code",
   "execution_count": 62,
   "metadata": {},
   "outputs": [
    {
     "name": "stdout",
     "output_type": "stream",
     "text": [
      "The lower quartile of Capomulin tumors: 32.37735684\n",
      "The upper quartile of Capomulin tumors: 40.1592203\n",
      "The interquartile range of Capomulin tumors: 7.781863460000004\n",
      "The median of Capomulin tumors: 38.125164399999996 \n",
      "Values below 20.70456164999999 could be outliers.\n",
      "Values above 51.83201549 could be outliers.\n"
     ]
    }
   ],
   "source": [
    "# Put treatments into a list for for loop (and later for plot labels)\n",
    "treatment=['Capomulin', 'Ramicane', 'Infubinol','Ceftamin']\n",
    "\n",
    "# Create empty list to fill with tumor vol data (for plotting)    \n",
    "\n",
    "merge_vol_data = merge_vol_data.reset_index()\n",
    "tumor_size_data =merge_vol_data.groupby('Drug Regimen')['Tumor Volume (mm3)'].apply(list)\n",
    "tumor_list_df = pd.DataFrame(tumor_size_data )\n",
    "tumor_list_df = tumor_list_df.reindex(treatment)\n",
    "tumor_vols = [vol for vol in tumor_list_df['Tumor Volume (mm3)']]\n",
    "\n",
    "# Calculate the IQR and quantitatively determine if there are any potential outliers. \n",
    "# Locate the rows which contain mice on each drug and get the tumor volumes\n",
    "cap_tumors = cap_merge[\"Tumor Volume (mm3)\"]\n",
    "\n",
    "quartiles =cap_tumors.quantile([.25,.5,.75])\n",
    "lowerq = quartiles[0.25]\n",
    "upperq = quartiles[0.75]\n",
    "iqr = upperq-lowerq\n",
    "\n",
    "\n",
    "print(f\"The lower quartile of Capomulin tumors: {lowerq}\")\n",
    "print(f\"The upper quartile of Capomulin tumors: {upperq}\")\n",
    "print(f\"The interquartile range of Capomulin tumors: {iqr}\")\n",
    "print(f\"The median of Capomulin tumors: {quartiles[0.5]} \")    \n",
    "  \n",
    "# add subset    \n",
    "    \n",
    "# Determine outliers using upper and lower bounds\n",
    "lower_bound = lowerq - (1.5*iqr)\n",
    "upper_bound = upperq + (1.5*iqr)\n",
    "\n",
    "print(f\"Values below {lower_bound} could be outliers.\")\n",
    "print(f\"Values above {upper_bound} could be outliers.\")"
   ]
  },
  {
   "cell_type": "code",
   "execution_count": 63,
   "metadata": {},
   "outputs": [
    {
     "name": "stdout",
     "output_type": "stream",
     "text": [
      "The lower quartile of Infubinol tumors: 54.04860769\n",
      "The upper quartile of Infubinol tumors: 65.52574285\n",
      "The interquartile range of Infubinol tumors: 11.477135160000003\n",
      "The median of Infubinol tumors: 60.16518046 \n",
      "Values below 36.83290494999999 could be outliers.\n",
      "Values above 82.74144559000001 could be outliers.\n"
     ]
    }
   ],
   "source": [
    "Inf_tumors = Inf_merge[\"Tumor Volume (mm3)\"]\n",
    "\n",
    "quartiles =Inf_tumors.quantile([.25,.5,.75])\n",
    "lowerq = quartiles[0.25]\n",
    "upperq = quartiles[0.75]\n",
    "iqr = upperq-lowerq\n",
    "\n",
    "\n",
    "print(f\"The lower quartile of Infubinol tumors: {lowerq}\")\n",
    "print(f\"The upper quartile of Infubinol tumors: {upperq}\")\n",
    "print(f\"The interquartile range of Infubinol tumors: {iqr}\")\n",
    "print(f\"The median of Infubinol tumors: {quartiles[0.5]} \")    \n",
    "  \n",
    "# add subset    \n",
    "    \n",
    "# Determine outliers using upper and lower bounds\n",
    "lower_bound = lowerq - (1.5*iqr)\n",
    "upper_bound = upperq + (1.5*iqr)\n",
    "\n",
    "print(f\"Values below {lower_bound} could be outliers.\")\n",
    "print(f\"Values above {upper_bound} could be outliers.\")"
   ]
  },
  {
   "cell_type": "code",
   "execution_count": 64,
   "metadata": {},
   "outputs": [
    {
     "name": "stdout",
     "output_type": "stream",
     "text": [
      "The lower quartile of Ceftamin tumors: 48.72207785\n",
      "The upper quartile of Ceftamin tumors: 64.29983003\n",
      "The interquartile range of Ceftamin tumors: 15.577752179999997\n",
      "The median of Ceftamin tumors: 59.85195552 \n",
      "Values below 25.355449580000002 could be outliers.\n",
      "Values above 87.66645829999999 could be outliers.\n"
     ]
    }
   ],
   "source": [
    "Cef_tumors = Cef_merge[\"Tumor Volume (mm3)\"]\n",
    "\n",
    "quartiles =Cef_tumors.quantile([.25,.5,.75])\n",
    "lowerq = quartiles[0.25]\n",
    "upperq = quartiles[0.75]\n",
    "iqr = upperq-lowerq\n",
    "\n",
    "\n",
    "print(f\"The lower quartile of Ceftamin tumors: {lowerq}\")\n",
    "print(f\"The upper quartile of Ceftamin tumors: {upperq}\")\n",
    "print(f\"The interquartile range of Ceftamin tumors: {iqr}\")\n",
    "print(f\"The median of Ceftamin tumors: {quartiles[0.5]} \")    \n",
    "  \n",
    "# add subset    \n",
    "    \n",
    "# Determine outliers using upper and lower bounds\n",
    "lower_bound = lowerq - (1.5*iqr)\n",
    "upper_bound = upperq + (1.5*iqr)\n",
    "\n",
    "print(f\"Values below {lower_bound} could be outliers.\")\n",
    "print(f\"Values above {upper_bound} could be outliers.\")"
   ]
  },
  {
   "cell_type": "code",
   "execution_count": 65,
   "metadata": {},
   "outputs": [
    {
     "name": "stdout",
     "output_type": "stream",
     "text": [
      "The lower quartile of Ramicane tumors: 31.56046955\n",
      "The upper quartile of Ramicane tumors: 40.65900627\n",
      "The interquartile range of Ramicane tumors: 9.098536719999998\n",
      "The median of Ramicane tumors: 36.56165229 \n",
      "Values below 17.912664470000003 could be outliers.\n",
      "Values above 54.30681135 could be outliers.\n"
     ]
    }
   ],
   "source": [
    "Ram_tumors = Ram_merge[\"Tumor Volume (mm3)\"]\n",
    "\n",
    "quartiles =Ram_tumors.quantile([.25,.5,.75])\n",
    "lowerq = quartiles[0.25]\n",
    "upperq = quartiles[0.75]\n",
    "iqr = upperq-lowerq\n",
    "\n",
    "\n",
    "print(f\"The lower quartile of Ramicane tumors: {lowerq}\")\n",
    "print(f\"The upper quartile of Ramicane tumors: {upperq}\")\n",
    "print(f\"The interquartile range of Ramicane tumors: {iqr}\")\n",
    "print(f\"The median of Ramicane tumors: {quartiles[0.5]} \")    \n",
    "  \n",
    "# add subset    \n",
    "    \n",
    "# Determine outliers using upper and lower bounds\n",
    "lower_bound = lowerq - (1.5*iqr)\n",
    "upper_bound = upperq + (1.5*iqr)\n",
    "\n",
    "print(f\"Values below {lower_bound} could be outliers.\")\n",
    "print(f\"Values above {upper_bound} could be outliers.\")"
   ]
  },
  {
   "cell_type": "code",
   "execution_count": 66,
   "metadata": {},
   "outputs": [
    {
     "data": {
      "image/png": "[encoded data removed]",
      "text/plain": [
       "<Figure size 432x288 with 1 Axes>"
      ]
     },
     "metadata": {
      "needs_background": "light"
     },
     "output_type": "display_data"
    }
   ],
   "source": [
    "# Generate a box plot of the final tumor volume of each mouse across four regimens of interest\n",
    "plt.boxplot(tumor_vols, labels=treatment)\n",
    "plt.ylim(10, 80)\n",
    "plt.show()\n",
    "\n"
   ]
  },
  {
   "cell_type": "markdown",
   "metadata": {},
   "source": [
    "## Line and Scatter Plots"
   ]
  },
  {
   "cell_type": "code",
   "execution_count": 67,
   "metadata": {},
   "outputs": [
    {
     "data": {
      "image/png": "[encoded data removed]",
      "text/plain": [
       "<Figure size 432x288 with 1 Axes>"
      ]
     },
     "metadata": {
      "needs_background": "light"
     },
     "output_type": "display_data"
    }
   ],
   "source": [
    "# Generate a line plot of tumor volume vs. time point for a mouse treated with Capomulin\n",
    "tumer_change = data[data[\"Mouse ID\"].isin([\"b742\"])]\n",
    "\n",
    "tumer_change_data = tumer_change[[\"Mouse ID\", \"Timepoint\", \"Tumor Volume (mm3)\"]]\n",
    "tumer_change_data\n",
    "\n",
    "plot_df = tumer_change_data.reset_index()\n",
    "plot_df\n",
    "\n",
    "plot1 = plot_df[[\"Mouse ID\", \"Timepoint\", \"Tumor Volume (mm3)\"]]\n",
    "plot1\n",
    "\n",
    "lines = plot1.plot.line()"
   ]
  },
  {
   "cell_type": "code",
   "execution_count": 68,
   "metadata": {},
   "outputs": [
    {
     "data": {
      "image/png": "[encoded data removed]",
      "text/plain": [
       "<Figure size 432x288 with 1 Axes>"
      ]
     },
     "metadata": {
      "needs_background": "light"
     },
     "output_type": "display_data"
    }
   ],
   "source": [
    "# Generate a scatter plot of average tumor volume vs. mouse weight for the Capomulin regimen\n",
    "capomulin_table = data.loc[data[\"Drug Regimen\"]==\"Capomulin\"]\n",
    "capomulin_table.dropna()\n",
    "capomulin_average = capomulin_table.groupby('Mouse ID').mean() \n",
    "plt.scatter(capomulin_average['Weight (g)'],capomulin_average['Tumor Volume (mm3)']) \n",
    "plt.xlabel('Weight (g)') \n",
    "plt.ylabel('Average Tumor Volume (mm3)') \n",
    "plt.show()"
   ]
  },
  {
   "cell_type": "markdown",
   "metadata": {},
   "source": [
    "## Correlation and Regression"
   ]
  },
  {
   "cell_type": "code",
   "execution_count": 69,
   "metadata": {},
   "outputs": [],
   "source": [
    "from sklearn.linear_model import LinearRegression"
   ]
  },
  {
   "cell_type": "code",
   "execution_count": 70,
   "metadata": {},
   "outputs": [
    {
     "name": "stdout",
     "output_type": "stream",
     "text": [
      "The correlation between mouse weight and average tumor volume is 0.88\n"
     ]
    },
    {
     "data": {
      "text/plain": [
       "LinregressResult(slope=1.750468228958504, intercept=1.4481469525549002, rvalue=0.8767060403658119, pvalue=9.0844290886732e-09, stderr=0.20026513236453639)"
      ]
     },
     "execution_count": 70,
     "metadata": {},
     "output_type": "execute_result"
    }
   ],
   "source": [
    "# Calculate the correlation coefficient and linear regression model \n",
    "# for mouse weight and average tumor volume for the Capomulin regimen\n",
    "correlation=round(st.pearsonr(cap_merge['Weight (g)'],cap_merge['Tumor Volume (mm3)'])[0],2)\n",
    "print(f\"The correlation between mouse weight and average tumor volume is {correlation}\")\n",
    "\n",
    "model_data=st.linregress(cap_merge['Weight (g)'],cap_merge['Tumor Volume (mm3)'])\n",
    "model_data\n"
   ]
  },
  {
   "cell_type": "code",
   "execution_count": 71,
   "metadata": {},
   "outputs": [],
   "source": [
    "slope=1.75\n",
    "intercept=1.44"
   ]
  },
  {
   "cell_type": "code",
   "execution_count": 72,
   "metadata": {},
   "outputs": [
    {
     "data": {
      "image/png": "[encoded data removed]",
      "text/plain": [
       "<Figure size 432x288 with 1 Axes>"
      ]
     },
     "metadata": {
      "needs_background": "light"
     },
     "output_type": "display_data"
    }
   ],
   "source": [
    "y_values = cap_merge['Weight (g)']*slope+intercept\n",
    "plt.scatter(cap_merge['Weight (g)'],cap_merge['Tumor Volume (mm3)'])\n",
    "plt.plot(cap_merge['Weight (g)'],y_values,color=\"red\")\n",
    "plt.xlabel('Weight(g)')\n",
    "plt.ylabel('Average Tumore Volume (mm3)')\n",
    "\n",
    "plt.savefig('linearregression')\n",
    "plt.show()"
   ]
  },
  {
   "cell_type": "code",
   "execution_count": null,
   "metadata": {},
   "outputs": [],
   "source": []
  },
  {
   "cell_type": "code",
   "execution_count": null,
   "metadata": {},
   "outputs": [],
   "source": []
  },
  {
   "cell_type": "code",
   "execution_count": null,
   "metadata": {},
   "outputs": [],
   "source": []
  }
 ],
 "metadata": {
  "anaconda-cloud": {},
  "kernelspec": {
   "display_name": "Python 3",
   "language": "python",
   "name": "python3"
  },
  "language_info": {
   "codemirror_mode": {
    "name": "ipython",
    "version": 3
   },
   "file_extension": ".py",
   "mimetype": "text/x-python",
   "name": "python",
   "nbconvert_exporter": "python",
   "pygments_lexer": "ipython3",
   "version": "3.8.5"
  }
 },
 "nbformat": 4,
 "nbformat_minor": 4
}
